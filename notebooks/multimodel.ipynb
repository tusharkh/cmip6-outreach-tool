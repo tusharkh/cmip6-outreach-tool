{
 "cells": [
  {
   "cell_type": "markdown",
   "metadata": {},
   "source": [
    "### Multimodel stats"
   ]
  },
  {
   "cell_type": "markdown",
   "metadata": {},
   "source": [
    "For now: mean, max, min, standard deviation"
   ]
  },
  {
   "cell_type": "code",
   "execution_count": 23,
   "metadata": {},
   "outputs": [],
   "source": [
    "%matplotlib inline\n",
    "\n",
    "import xarray as xr\n",
    "import intake\n",
    "import pandas as pd\n",
    "import xarray as xr\n",
    "import numpy as np\n",
    "import matplotlib.pyplot as plt\n",
    "\n",
    "# util.py is in the local directory\n",
    "# it contains code that is common across project notebooks\n",
    "# or routines that are too extensive and might otherwise clutter\n",
    "# the notebook design\n",
    "import util "
   ]
  },
  {
   "cell_type": "markdown",
   "metadata": {},
   "source": [
    "### FUNCTION INFO:\n",
    "\n",
    "Find mean, min, and max across a list of models over the globe (default; lat-lon averaged) or over a certain region (a lat-lon average)\n",
    "\n",
    "input: \n",
    "\n",
    "    models = list of the models with dimension (time, lon, lat) \n",
    "    \n",
    "    loc = [lonmin, lonmax, latmin, latmax] (assumes all if not given)\n",
    "    \n",
    "*** assumes all models have the same length of times and that the dimension is called \"time\" ***\n",
    "\n",
    "*** lat/lon are chosen using the nearest values in the dataset ***\n",
    "\n",
    "returns:\n",
    "    \n",
    "    mean [dimensions of time]\n",
    "    min [dimensions of time]\n",
    "    max [dimensions of time]\n"
   ]
  },
  {
   "cell_type": "code",
   "execution_count": 24,
   "metadata": {},
   "outputs": [
    {
     "data": {
      "text/plain": [
       "\"\\ndef multimodel(models,loc=None):\\n    \\n    ntime = len(models[0].time)\\n    nmod = len(models)\\n    print('number time steps: ' + str(ntime))\\n    print('number of models: ' + str(nmod))\\n    \\n    tempdata = np.empty((nmod,ntime))\\n    \\n    ### average the data over the lat-lon range you need:###\\n    for m in range(nmod):\\n        model = models[m]\\n        \\n        # global mean:\\n        if loc == None:\\n            tempdata[m,:] = model.mean(dim=['lat','lon'])\\n            \\n        # specific location:\\n        else:\\n            if len(loc) != 4:\\n                raise Exception('Must enter location in the form [minlon, maxlon, minlat, maxlat]!')\\n            lonmin = loc[0]\\n            lonmax = loc[1]\\n            latmin = loc[2]\\n            latmax = loc[3]\\n            \\n            tempdata[m,:] = model.sel(lat=slice(latmin,latmax),method='nearest').sel(lon=slice(lonmin,lonmax),method='nearest').mean()\\n     \\n    \\n    ### multimodel mean and spread:###        \\n    mm_mean = np.nanmean(tempdata,axis=0)\\n    mm_min = np.min(tempdata,axis=0)\\n    mm_max = np.max(tempdta,axis=0)\\n    \\n    return [mm_mean,mm_min,mm_max]\\n\""
      ]
     },
     "execution_count": 24,
     "metadata": {},
     "output_type": "execute_result"
    }
   ],
   "source": [
    "'''\n",
    "def multimodel(models,loc=None):\n",
    "    \n",
    "    ntime = len(models[0].time)\n",
    "    nmod = len(models)\n",
    "    print('number time steps: ' + str(ntime))\n",
    "    print('number of models: ' + str(nmod))\n",
    "    \n",
    "    tempdata = np.empty((nmod,ntime))\n",
    "    \n",
    "    ### average the data over the lat-lon range you need:###\n",
    "    for m in range(nmod):\n",
    "        model = models[m]\n",
    "        \n",
    "        # global mean:\n",
    "        if loc == None:\n",
    "            tempdata[m,:] = model.mean(dim=['lat','lon'])\n",
    "            \n",
    "        # specific location:\n",
    "        else:\n",
    "            if len(loc) != 4:\n",
    "                raise Exception('Must enter location in the form [minlon, maxlon, minlat, maxlat]!')\n",
    "            lonmin = loc[0]\n",
    "            lonmax = loc[1]\n",
    "            latmin = loc[2]\n",
    "            latmax = loc[3]\n",
    "            \n",
    "            tempdata[m,:] = model.sel(lat=slice(latmin,latmax),method='nearest').sel(lon=slice(lonmin,lonmax),method='nearest').mean()\n",
    "     \n",
    "    \n",
    "    ### multimodel mean and spread:###        \n",
    "    mm_mean = np.nanmean(tempdata,axis=0)\n",
    "    mm_min = np.min(tempdata,axis=0)\n",
    "    mm_max = np.max(tempdta,axis=0)\n",
    "    \n",
    "    return [mm_mean,mm_min,mm_max]\n",
    "'''"
   ]
  },
  {
   "cell_type": "code",
   "execution_count": 46,
   "metadata": {},
   "outputs": [],
   "source": [
    "def multimodel(ds,loc=None):\n",
    "    \n",
    "    nmod = len(ds.data_vars) # number of models - each model stored as a variable\n",
    "    ntime = len(ds.time)\n",
    "    print('number time steps: ' + str(ntime))\n",
    "    print('number of models: ' + str(nmod))\n",
    "    \n",
    "    tempdata = np.empty((nmod,ntime))\n",
    "    \n",
    "    ### average the data over the lat-lon range you need:###\n",
    "    for m in range(nmod):\n",
    "        print('averaging for model ' + str(m+1) + '...')\n",
    "        model = models[m]\n",
    "        \n",
    "        # global mean:\n",
    "        if loc == None:\n",
    "            tempdata[m,:] = model.mean(dim=['lat','lon'])\n",
    "            \n",
    "        # specific location:\n",
    "        else:\n",
    "            if len(loc) != 4:\n",
    "                raise Exception('Must enter location in the form [minlon, maxlon, minlat, maxlat]!')\n",
    "            lonmin = loc[0]\n",
    "            lonmax = loc[1]\n",
    "            latmin = loc[2]\n",
    "            latmax = loc[3]\n",
    "            \n",
    "            tempdata[m,:] = model.sel(lat=slice(latmin,latmax),method='nearest').sel(lon=slice(lonmin,lonmax),method='nearest').mean()\n",
    "     \n",
    "    \n",
    "    ### multimodel mean and spread:### \n",
    "    print('computing multimodel statistics...')\n",
    "    mm_mean = np.nanmean(tempdata,axis=0)\n",
    "    mm_min = np.min(tempdata,axis=0)\n",
    "    mm_max = np.max(tempdta,axis=0)\n",
    "    \n",
    "    return [mm_mean,mm_min,mm_max]"
   ]
  },
  {
   "cell_type": "code",
   "execution_count": 26,
   "metadata": {},
   "outputs": [],
   "source": [
    "# data to test:"
   ]
  },
  {
   "cell_type": "code",
   "execution_count": 27,
   "metadata": {},
   "outputs": [],
   "source": [
    "import CreateTimeSeries"
   ]
  },
  {
   "cell_type": "code",
   "execution_count": 52,
   "metadata": {},
   "outputs": [],
   "source": [
    "dict_timeSeries = CreateTimeSeries.dict_timeSeries"
   ]
  },
  {
   "cell_type": "code",
   "execution_count": 62,
   "metadata": {},
   "outputs": [
    {
     "ename": "AttributeError",
     "evalue": "'dict' object has no attribute 'modelnames_toplot'",
     "output_type": "error",
     "traceback": [
      "\u001b[0;31m---------------------------------------------------------------------------\u001b[0m",
      "\u001b[0;31mAttributeError\u001b[0m                            Traceback (most recent call last)",
      "\u001b[0;32m<ipython-input-62-135703c364e1>\u001b[0m in \u001b[0;36m<module>\u001b[0;34m\u001b[0m\n\u001b[0;32m----> 1\u001b[0;31m \u001b[0mnames\u001b[0m \u001b[0;34m=\u001b[0m \u001b[0mdict_timeSeries\u001b[0m\u001b[0;34m.\u001b[0m\u001b[0mmodelnames_toplot\u001b[0m\u001b[0;34m\u001b[0m\u001b[0;34m\u001b[0m\u001b[0m\n\u001b[0m",
      "\u001b[0;31mAttributeError\u001b[0m: 'dict' object has no attribute 'modelnames_toplot'"
     ]
    }
   ],
   "source": [
    "names = CreateTimeSeries.modelnames_toplot"
   ]
  },
  {
   "cell_type": "code",
   "execution_count": 63,
   "metadata": {},
   "outputs": [
    {
     "ename": "NameError",
     "evalue": "name 'modelnames_toplot' is not defined",
     "output_type": "error",
     "traceback": [
      "\u001b[0;31m---------------------------------------------------------------------------\u001b[0m",
      "\u001b[0;31mNameError\u001b[0m                                 Traceback (most recent call last)",
      "\u001b[0;32m<ipython-input-63-7418a70937af>\u001b[0m in \u001b[0;36m<module>\u001b[0;34m\u001b[0m\n\u001b[1;32m      1\u001b[0m \u001b[0mds\u001b[0m\u001b[0;34m=\u001b[0m\u001b[0mdict_timeSeries\u001b[0m\u001b[0;34m[\u001b[0m\u001b[0;34m'historical'\u001b[0m\u001b[0;34m]\u001b[0m\u001b[0;34m\u001b[0m\u001b[0;34m\u001b[0m\u001b[0m\n\u001b[0;32m----> 2\u001b[0;31m \u001b[0mnames\u001b[0m\u001b[0;34m=\u001b[0m\u001b[0mmodelnames_toplot\u001b[0m\u001b[0;34m[\u001b[0m\u001b[0;34m'historical'\u001b[0m\u001b[0;34m]\u001b[0m\u001b[0;34m\u001b[0m\u001b[0;34m\u001b[0m\u001b[0m\n\u001b[0m",
      "\u001b[0;31mNameError\u001b[0m: name 'modelnames_toplot' is not defined"
     ]
    }
   ],
   "source": [
    "ds=dict_timeSeries['historical']"
   ]
  },
  {
   "cell_type": "code",
   "execution_count": 61,
   "metadata": {},
   "outputs": [
    {
     "data": {
      "text/plain": [
       "['MPI-ESM1-2-HR',\n",
       " 'CESM2-WACCM',\n",
       " 'MRI-ESM2-0',\n",
       " 'CESM2',\n",
       " 'UKESM1-0-LL',\n",
       " 'MIROC6',\n",
       " 'BCC-CSM2-MR',\n",
       " 'MIROC-ES2L']"
      ]
     },
     "execution_count": 61,
     "metadata": {},
     "output_type": "execute_result"
    }
   ],
   "source": [
    "names"
   ]
  },
  {
   "cell_type": "code",
   "execution_count": 30,
   "metadata": {},
   "outputs": [
    {
     "data": {
      "text/plain": [
       "<xarray.Dataset>\n",
       "Dimensions:          (lat: 5, lon: 5, time: 5)\n",
       "Coordinates:\n",
       "  * time             (time) object 1850-01-15 00:00:00 ... 1850-05-15 00:00:00\n",
       "  * lat              (lat) float64 -89.14 -88.03 -86.91 -85.79 -84.67\n",
       "  * lon              (lon) float64 0.0 1.125 2.25 3.375 4.5\n",
       "Data variables:\n",
       "    CAMS-CSM1-0      (time, lat, lon) float64 dask.array<chunksize=(5, 5, 5), meta=np.ndarray>\n",
       "    SAM0-UNICON      (time, lat, lon) float64 dask.array<chunksize=(5, 5, 5), meta=np.ndarray>\n",
       "    HadGEM3-GC31-LL  (time, lat, lon) float64 dask.array<chunksize=(5, 5, 5), meta=np.ndarray>\n",
       "    GISS-E2-1-G-CC   (time, lat, lon) float64 dask.array<chunksize=(5, 5, 5), meta=np.ndarray>\n",
       "    CESM2-WACCM      (time, lat, lon) float64 dask.array<chunksize=(5, 5, 5), meta=np.ndarray>\n",
       "    GISS-E2-1-H      (time, lat, lon) float64 dask.array<chunksize=(5, 5, 5), meta=np.ndarray>\n",
       "    CanESM5          (time, lat, lon) float64 dask.array<chunksize=(5, 5, 5), meta=np.ndarray>\n",
       "    GISS-E2-1-G      (time, lat, lon) float64 dask.array<chunksize=(5, 5, 5), meta=np.ndarray>\n",
       "    MRI-ESM2-0       (time, lat, lon) float64 dask.array<chunksize=(5, 5, 5), meta=np.ndarray>\n",
       "    NESM3            (time, lat, lon) float64 dask.array<chunksize=(5, 5, 5), meta=np.ndarray>\n",
       "    UKESM1-0-LL      (time, lat, lon) float64 dask.array<chunksize=(5, 5, 5), meta=np.ndarray>\n",
       "    NorCPM1          (time, lat, lon) float64 dask.array<chunksize=(5, 5, 5), meta=np.ndarray>\n",
       "    MIROC6           (time, lat, lon) float64 dask.array<chunksize=(5, 5, 5), meta=np.ndarray>\n",
       "    BCC-CSM2-MR      (time, lat, lon) float64 dask.array<chunksize=(5, 5, 5), meta=np.ndarray>\n",
       "    BCC-ESM1         (time, lat, lon) float64 dask.array<chunksize=(5, 5, 5), meta=np.ndarray>\n",
       "    MIROC-ES2L       (time, lat, lon) float64 dask.array<chunksize=(5, 5, 5), meta=np.ndarray>"
      ]
     },
     "execution_count": 30,
     "metadata": {},
     "output_type": "execute_result"
    }
   ],
   "source": [
    "ds.head()"
   ]
  },
  {
   "cell_type": "code",
   "execution_count": 43,
   "metadata": {},
   "outputs": [],
   "source": [
    "test = ds"
   ]
  },
  {
   "cell_type": "code",
   "execution_count": 47,
   "metadata": {},
   "outputs": [
    {
     "name": "stdout",
     "output_type": "stream",
     "text": [
      "number time steps: 1980\n",
      "number of models: 16\n",
      "averaging for model 0\n"
     ]
    },
    {
     "ename": "NameError",
     "evalue": "name 'models' is not defined",
     "output_type": "error",
     "traceback": [
      "\u001b[0;31m---------------------------------------------------------------------------\u001b[0m",
      "\u001b[0;31mNameError\u001b[0m                                 Traceback (most recent call last)",
      "\u001b[0;32m<ipython-input-47-a6b22f6f7d1b>\u001b[0m in \u001b[0;36m<module>\u001b[0;34m\u001b[0m\n\u001b[0;32m----> 1\u001b[0;31m \u001b[0;34m[\u001b[0m\u001b[0ma\u001b[0m\u001b[0;34m,\u001b[0m\u001b[0mb\u001b[0m\u001b[0;34m,\u001b[0m\u001b[0mc\u001b[0m\u001b[0;34m]\u001b[0m \u001b[0;34m=\u001b[0m \u001b[0mmultimodel\u001b[0m\u001b[0;34m(\u001b[0m\u001b[0mtest\u001b[0m\u001b[0;34m)\u001b[0m\u001b[0;34m\u001b[0m\u001b[0;34m\u001b[0m\u001b[0m\n\u001b[0m",
      "\u001b[0;32m<ipython-input-46-018c96c61c22>\u001b[0m in \u001b[0;36mmultimodel\u001b[0;34m(ds, loc)\u001b[0m\n\u001b[1;32m     11\u001b[0m     \u001b[0;32mfor\u001b[0m \u001b[0mm\u001b[0m \u001b[0;32min\u001b[0m \u001b[0mrange\u001b[0m\u001b[0;34m(\u001b[0m\u001b[0mnmod\u001b[0m\u001b[0;34m)\u001b[0m\u001b[0;34m:\u001b[0m\u001b[0;34m\u001b[0m\u001b[0;34m\u001b[0m\u001b[0m\n\u001b[1;32m     12\u001b[0m         \u001b[0mprint\u001b[0m\u001b[0;34m(\u001b[0m\u001b[0;34m'averaging for model '\u001b[0m \u001b[0;34m+\u001b[0m \u001b[0mstr\u001b[0m\u001b[0;34m(\u001b[0m\u001b[0mm\u001b[0m\u001b[0;34m)\u001b[0m\u001b[0;34m)\u001b[0m\u001b[0;34m\u001b[0m\u001b[0;34m\u001b[0m\u001b[0m\n\u001b[0;32m---> 13\u001b[0;31m         \u001b[0mmodel\u001b[0m \u001b[0;34m=\u001b[0m \u001b[0mmodels\u001b[0m\u001b[0;34m[\u001b[0m\u001b[0mm\u001b[0m\u001b[0;34m]\u001b[0m\u001b[0;34m\u001b[0m\u001b[0;34m\u001b[0m\u001b[0m\n\u001b[0m\u001b[1;32m     14\u001b[0m \u001b[0;34m\u001b[0m\u001b[0m\n\u001b[1;32m     15\u001b[0m         \u001b[0;31m# global mean:\u001b[0m\u001b[0;34m\u001b[0m\u001b[0;34m\u001b[0m\u001b[0;34m\u001b[0m\u001b[0m\n",
      "\u001b[0;31mNameError\u001b[0m: name 'models' is not defined"
     ]
    }
   ],
   "source": [
    "[a,b,c] = multimodel(test)"
   ]
  },
  {
   "cell_type": "code",
   "execution_count": null,
   "metadata": {},
   "outputs": [],
   "source": []
  }
 ],
 "metadata": {
  "kernelspec": {
   "display_name": "Python 3",
   "language": "python",
   "name": "python3"
  },
  "language_info": {
   "codemirror_mode": {
    "name": "ipython",
    "version": 3
   },
   "file_extension": ".py",
   "mimetype": "text/x-python",
   "name": "python",
   "nbconvert_exporter": "python",
   "pygments_lexer": "ipython3",
   "version": "3.7.3"
  }
 },
 "nbformat": 4,
 "nbformat_minor": 4
}
